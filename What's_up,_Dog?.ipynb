{
  "nbformat": 4,
  "nbformat_minor": 0,
  "metadata": {
    "colab": {
      "name": "What's up, Dog?",
      "provenance": [],
      "collapsed_sections": [],
      "include_colab_link": true
    },
    "kernelspec": {
      "name": "python3",
      "display_name": "Python 3"
    }
  },
  "cells": [
    {
      "cell_type": "markdown",
      "metadata": {
        "id": "view-in-github",
        "colab_type": "text"
      },
      "source": [
        "<a href=\"https://colab.research.google.com/github/juliabulia245/ACC_Python_Class/blob/master/What's_up%2C_Dog%3F.ipynb\" target=\"_parent\"><img src=\"https://colab.research.google.com/assets/colab-badge.svg\" alt=\"Open In Colab\"/></a>"
      ]
    },
    {
      "cell_type": "markdown",
      "metadata": {
        "id": "qO-9IrPrLzZx"
      },
      "source": [
        "# **Introduction**\n",
        "Throughout the years, I've known many dogs with many different names: Dixie, Dottie, Edgar Allan Pug, Harper, Kaya, Lennie, Luna, Muffen... in fact, I can only think of two dogs I've met with the same name — Cooper.\n",
        "\n",
        "When I started my current job, I became responsible for issuing dog licenses in the City of Troy. I was surprised to find that the most popular dog names were ones I'd never heard before: Bella, Jax, Charlie... I decided to explore dog name popularity to explore changes over time."
      ]
    },
    {
      "cell_type": "markdown",
      "metadata": {
        "id": "x59HwRgvwMQ3"
      },
      "source": [
        "# **Section 0**: Imports & Settings\n",
        "This section imports Python libraries used in this project and sets options and variables used throughout the project."
      ]
    },
    {
      "cell_type": "code",
      "metadata": {
        "id": "dzQs5nSuMX1o"
      },
      "source": [
        "import pandas as pd\n",
        "import numpy as np\n",
        "\n",
        "pd.set_option(\"display.max_rows\", 1000, \"display.max_columns\", None)\n",
        "\n",
        "# dogs per x (if helpful later on)\n",
        "per = 1000"
      ],
      "execution_count": null,
      "outputs": []
    },
    {
      "cell_type": "markdown",
      "metadata": {
        "id": "F25f4-bOfXdg"
      },
      "source": [
        "# **Section 1**: Importing Data\n",
        "\n",
        "This section imports all the data into data frames and cleans it up!\n",
        "The data I used is from the following places:\n",
        "\n",
        "\n",
        "*   Anchorage, AK\n",
        "*   Cambridge, MA\n",
        "*   New York, NY\n",
        "*   Troy, NY\n",
        "*   Allegheny County, PA\n",
        "*   Seattle, WA"
      ]
    },
    {
      "cell_type": "markdown",
      "metadata": {
        "id": "aHdesyGQV7XO"
      },
      "source": [
        "**1.0 - Functions**"
      ]
    },
    {
      "cell_type": "code",
      "metadata": {
        "id": "ZiUW3rfjWEOu"
      },
      "source": [
        "def cleanup(df,locality):\n",
        "  #set column names so they will match for each locality\n",
        "  df.columns = ['name','breed','year']\n",
        "\n",
        "  #set locality values\n",
        "  df['locality'] = locality\n",
        "\n",
        "  #convert all names to uppercase\n",
        "  df['name'] = df['name'].str.upper()\n",
        "\n",
        "  #remove null, N/A, etc. values\n",
        "  df = df.replace(r'^\\s*$', np.nan, regex=True)\n",
        "  df = df.replace(r'UNKNOWN', np.nan, regex=True)\n",
        "  df = df.replace(r'NAME NOT PROVIDED', np.nan, regex=True)\n",
        "  df = df.dropna()\n",
        "  return df"
      ],
      "execution_count": null,
      "outputs": []
    },
    {
      "cell_type": "markdown",
      "metadata": {
        "id": "UXVCffH4toce"
      },
      "source": [
        "**1.1 - Anchorage, AK**\n",
        "\n",
        "**Source:** https://data.muni.org/Other/Dog-Names/a9a7-y93v\n",
        "<br />\n",
        "**Description:** *Names and count of currently active dog registrations per name at a given point in time*\n",
        "\n",
        "> **Columns used:**\n",
        ">*   name\n",
        ">*   count\n",
        ">\n",
        "> **Dates:**\n",
        ">*   Oct. 18, 2017 (snapshot)\n",
        ">*   May 16, 2018 (snapshot)\n",
        ">*   August 13, 2020 (current, last known update as of Sep. 7, 2020)"
      ]
    },
    {
      "cell_type": "code",
      "metadata": {
        "id": "xbOMClt-eTWc"
      },
      "source": [
        "a_cols = ['name','count']\n",
        "\n",
        "a_now = pd.read_csv('https://data.muni.org/resource/a9a7-y93v.csv?$limit=500000',header=0,names=a_cols)\n",
        "a_2017 = pd.read_csv('https://raw.githubusercontent.com/juliabulia245/ACC_Python_Class/master/anchorage_2017-10-18.csv',header=0,names=a_cols)\n",
        "a_2018 = pd.read_csv('https://raw.githubusercontent.com/juliabulia245/ACC_Python_Class/master/anchorage_2018-05-16.csv',header=0,names=a_cols)\n",
        "\n",
        "a_now['year'] = 2020\n",
        "a_2017['year'] = 2017\n",
        "a_2018['year'] = 2018\n",
        "\n",
        "anchorage = pd.concat([a_now, a_2017, a_2018])\n",
        "anchorage['locality'] = \"Anchorage, AK\"\n",
        "#anchorage"
      ],
      "execution_count": null,
      "outputs": []
    },
    {
      "cell_type": "markdown",
      "metadata": {
        "id": "z53STHUkuPjy"
      },
      "source": [
        "**1.2 - Cambridge, MA**\n",
        "\n",
        "**Source:** https://data.cambridgema.gov/General-Government/Dogs-of-Cambridge/sckh-3xyx\n",
        "<br />\n",
        "**Description:** *Currently active dog registrations at a given point in time*\n",
        ">\n",
        ">**Columns used:**\n",
        ">* name\n",
        ">* breed\n",
        ">\n",
        ">**Dates:**\n",
        ">* *Oct. 2, 2017 (snapshot - unused)*\n",
        ">* Nov. 6, 2017 (snapshot)\n",
        ">* Jan. 22, 2018 (current, last known update as of Sep. 7, 2020)"
      ]
    },
    {
      "cell_type": "code",
      "metadata": {
        "id": "GKut5YgTtGHx"
      },
      "source": [
        "c_now = pd.read_csv('https://data.cambridgema.gov/resource/sckh-3xyx.csv?$limit=500000',usecols=['dog_name','dog_breed'])\n",
        "c_2017 = pd.read_csv('https://raw.githubusercontent.com/juliabulia245/ACC_Python_Class/master/cambridge_2017-11-06.csv',usecols=['Dog_Name','Dog_Breed'])\n",
        "\n",
        "c_now.columns = ['name','breed']\n",
        "c_2017.columns = ['name','breed']\n",
        "\n",
        "c_now['year'] = '2018'\n",
        "c_2017['year'] = '2017'\n",
        "\n",
        "cambridge_rows = pd.concat([c_now, c_2017])\n",
        "\n",
        "cambridge_rows = cleanup(cambridge_rows, \"Cambridge, MA\")\n",
        "#cambridge_rows"
      ],
      "execution_count": null,
      "outputs": []
    },
    {
      "cell_type": "markdown",
      "metadata": {
        "id": "JuCb4l9RGP3L"
      },
      "source": [
        "**1.3 - New York, NY**\n",
        "\n",
        "**Source:** https://data.cityofnewyork.us/resource/nu7n-tubp\n",
        "<br />\n",
        "**Description:** *Dog licenses issued between Sep. 12, 2014 and Dec. 31, 2018 (data last updated July 25, 2019)*\n",
        "<br />\n",
        ">**Columns used:**\n",
        ">* animalname\n",
        ">* breedname\n",
        ">* licenseissuedate\n",
        ">\n",
        ">\n",
        "**Notes:**\n",
        "*This dataset contained an \"extract year\" column, which revealed duplicates in the dataset upon examination (the same license was often extracted more than once), so I removed duplicates with .drop_duplicates() by using all columns (except \"extract_year\", not imported) as the subset, yielding 87,743 duplicates. Next, I dropped the columns I didn't need for the project.*"
      ]
    },
    {
      "cell_type": "code",
      "metadata": {
        "id": "DHHh5VGQxIjO"
      },
      "source": [
        "nyc_rows = pd.read_csv('https://data.cityofnewyork.us/resource/nu7n-tubp.csv?$limit=500000',usecols=['animalname','animalgender','animalbirth','breedname','zipcode','licenseissueddate','licenseexpireddate'],na_filter=False)\n",
        "nyc_rows = nyc_rows.drop_duplicates()\n",
        "nyc_rows['year'] = pd.DatetimeIndex(nyc_rows['licenseissueddate']).year\n",
        "nyc_rows = nyc_rows.drop(columns=['animalgender','animalbirth','zipcode','licenseissueddate','licenseexpireddate'])\n",
        "\n",
        "nyc_rows = cleanup(nyc_rows, \"New York, NY\")\n",
        "#nyc_rows"
      ],
      "execution_count": null,
      "outputs": []
    },
    {
      "cell_type": "markdown",
      "metadata": {
        "id": "DI7aaMv5vDrt"
      },
      "source": [
        "**1.4 - Troy, NY**\n",
        "\n",
        "**Source:** https://github.com/juliabulia245/ACC_Python_Class/blob/master/troy.csv\n",
        "<br />\n",
        "**Description:** *Licenses issued between Oct. 1, 1999 and Sep. 4, 2020 (retrieved Sep. 4, 2020 via FOIL request)*\n",
        "<br />\n",
        ">**Columns used:**\n",
        ">* Name\n",
        ">* Breed\n",
        ">* Transaction\n",
        "\n",
        "**Notes:** *This particular dataset only contains one record per dog. The transaction column is the earliest license transaction date. One improvement I'd like to make is to import individual license records so I can more accurately analyze popularity over time.*\n"
      ]
    },
    {
      "cell_type": "code",
      "metadata": {
        "id": "Khuho7vCxMOr"
      },
      "source": [
        "troy_rows = pd.read_csv('https://raw.githubusercontent.com/juliabulia245/ACC_Python_Class/master/troy.csv',usecols=['Name','Breed','Transaction'],na_filter=False)\n",
        "troy_rows['year'] = pd.DatetimeIndex(troy_rows['Transaction']).year\n",
        "troy_rows = troy_rows.drop(columns=['Transaction'])\n",
        "\n",
        "troy_rows = cleanup(troy_rows, \"Troy, NY\")\n",
        "#troy_rows"
      ],
      "execution_count": null,
      "outputs": []
    },
    {
      "cell_type": "markdown",
      "metadata": {
        "id": "uLIxwVOLbxh-"
      },
      "source": [
        "**1.5 - Allegheny County, PA**\n",
        "\n",
        "**Source:** https://data.wprdc.org/dataset/allegheny-county-dog-licenses\n",
        "<br />\n",
        "**Description:** *Licenses issued between 2007-2018*\n",
        "<br />\n",
        ">**Columns used:**\n",
        ">* Breed\n",
        ">* DogName\n",
        ">* ValidDate\n",
        "\n",
        "**Notes:** *These datasets take much longer than the others to load. I performed some searches for information about CKAN HTTP requests, because I sense it may be faster to add parameters to the URL to request specific columns to download, as opposed to using the usecols= parameter in python... to be continued!*"
      ]
    },
    {
      "cell_type": "code",
      "metadata": {
        "id": "dVTg9OATxUKu"
      },
      "source": [
        "palife = pd.read_csv('https://data.wprdc.org/datastore/dump/f8ab32f7-44c7-43ca-98bf-c1b444724598',usecols=['Breed','DogName','ValidDate'])\n",
        "pa2020 = pd.read_csv('https://data.wprdc.org/datastore/dump/75e867fe-3154-4be8-a7f3-5909653e5c06',usecols=['Breed','DogName','ValidDate'])\n",
        "pa2019 = pd.read_csv('https://data.wprdc.org/datastore/dump/37b11f07-361f-442a-966e-fbdc5eef0840',usecols=['Breed','DogName','ValidDate'])\n",
        "pa2018 = pd.read_csv('https://data.wprdc.org/datastore/dump/53211313-01c9-46e2-b520-a5748a10fd7c',usecols=['Breed','DogName','ValidDate'])\n",
        "pa2017 = pd.read_csv('https://data.wprdc.org/datastore/dump/ca0c8ba9-205c-4f5f-a1be-b87245046ad0',usecols=['Breed','DogName','ValidDate'])\n",
        "pa2016 = pd.read_csv('https://data.wprdc.org/datastore/dump/c88d57d4-cb43-4257-a3f1-ca46f0c837de',usecols=['Breed','DogName','ValidDate'])\n",
        "pa2015 = pd.read_csv('https://data.wprdc.org/datastore/dump/4d49202b-8bac-4cf9-9915-798a342253a6',usecols=['Breed','DogName','ValidDate'])\n",
        "pa2014 = pd.read_csv('https://data.wprdc.org/datastore/dump/19e5756c-a964-4ac3-abb5-ab1f7a1f9bd6',usecols=['Breed','DogName','ValidDate'])\n",
        "pa2013 = pd.read_csv('https://data.wprdc.org/datastore/dump/9ad226b2-4231-4158-bf71-043be226e3d9',usecols=['Breed','DogName','ValidDate'])\n",
        "pa2012 = pd.read_csv('https://data.wprdc.org/datastore/dump/891ee2e8-411a-433c-80a3-885b13008d66',usecols=['Breed','DogName','ValidDate'])\n",
        "pa2011 = pd.read_csv('https://data.wprdc.org/datastore/dump/a0b2bd41-cee9-4501-92b9-4cd55ed61ee6',usecols=['Breed','DogName','ValidDate'])\n",
        "pa2010 = pd.read_csv('https://data.wprdc.org/datastore/dump/174fc1be-68a6-4b6a-96d9-e5ef540b8e95',usecols=['Breed','DogName','ValidDate'])\n",
        "pa2009 = pd.read_csv('https://data.wprdc.org/datastore/dump/5a019e45-e2cb-4f48-8934-1988923239d2',usecols=['Breed','DogName','ValidDate'])\n",
        "pa2008 = pd.read_csv('https://data.wprdc.org/datastore/dump/82040517-c2c1-41d9-a810-73b15603cd9a',usecols=['Breed','DogName','ValidDate'])\n",
        "pa2007 = pd.read_csv('https://data.wprdc.org/datastore/dump/2623112a-bc79-4318-b816-ebb1d576da9c',usecols=['breed','dog_name','valid_date'])\n",
        "pa2007.columns = ['Breed','DogName','ValidDate']\n",
        "\n",
        "allegheny_rows = pd.concat([palife,pa2020,pa2019,pa2018,pa2017,pa2016,pa2015,pa2014,pa2013,pa2012,pa2011,pa2010,pa2009,pa2008,pa2007])\n",
        "allegheny_rows = allegheny_rows.drop_duplicates()\n",
        "allegheny_rows['year'] = pd.DatetimeIndex(allegheny_rows['ValidDate']).year\n",
        "\n",
        "allegheny_rows = allegheny_rows[['DogName','Breed','year']]\n",
        "\n",
        "allegheny_rows = cleanup(allegheny_rows,\"Allegheny Co, PA\")\n",
        "#allegheny_rows"
      ],
      "execution_count": null,
      "outputs": []
    },
    {
      "cell_type": "markdown",
      "metadata": {
        "id": "myRXjQpRuf5X"
      },
      "source": [
        "**1.6 - Seattle, WA**\n",
        "\n",
        "**Source:** https://data.seattle.gov/Community/Seattle-Pet-Licenses/jguv-t9rb\n",
        "<br />\n",
        "**Description:** *Pet licenses issued between Jan. 3, 2000 and Jan. 2, 2020 (last updated Jan. 2, 2020)*\n",
        "<br />\n",
        ">**Columns used:**\n",
        ">* name\n",
        ">* breed\n",
        ">* date_issued\n",
        ">\n",
        ">**Dates:**\n",
        ">* Apr. 18, 2018 (snapshot - unused)\n",
        ">* Jul. 12, 2018 (snapshot - unused)\n",
        ">* Jan. 2, 2020 (current, last known update as of Sep. 7, 2020)\n",
        ">\n",
        "**Notes:**\n",
        "*This dataset also contained licenses for cats, goats, pigs, etc., so I added an SoQL query to the URL to filter for species=Dog (after confirming with .value_counts() that Dogs were not listed any other way, e.g. DOG or dog). I also combined the primary and secondary breed columns with SoQL (although I didn't end up using these in my analysis).*"
      ]
    },
    {
      "cell_type": "code",
      "metadata": {
        "id": "uaRQys0hDaYL",
        "outputId": "39aa27a0-e140-4b0a-85cc-e3e0bc506ac7",
        "colab": {
          "base_uri": "https://localhost:8080/"
        }
      },
      "source": [
        "seattle_rows = pd.read_csv('https://data.seattle.gov/resource/jguv-t9rb.csv?species=Dog&$select=animal_s_name,primary_breed%20||%20\",%20\"%20||%20secondary_breed%20AS%20breed,license_issue_date%20AS%20year&$limit=500000',na_filter=False)\n",
        "\n",
        "seattle_rows['year'] = pd.DatetimeIndex(seattle_rows['year']).year\n",
        "\n",
        "cleanup(seattle_rows, \"Seattle, WA\")\n",
        "#seattle_rows"
      ],
      "execution_count": null,
      "outputs": [
        {
          "output_type": "execute_result",
          "data": {
            "text/html": [
              "<div>\n",
              "<style scoped>\n",
              "    .dataframe tbody tr th:only-of-type {\n",
              "        vertical-align: middle;\n",
              "    }\n",
              "\n",
              "    .dataframe tbody tr th {\n",
              "        vertical-align: top;\n",
              "    }\n",
              "\n",
              "    .dataframe thead th {\n",
              "        text-align: right;\n",
              "    }\n",
              "</style>\n",
              "<table border=\"1\" class=\"dataframe\">\n",
              "  <thead>\n",
              "    <tr style=\"text-align: right;\">\n",
              "      <th></th>\n",
              "      <th>name</th>\n",
              "      <th>breed</th>\n",
              "      <th>year</th>\n",
              "      <th>locality</th>\n",
              "    </tr>\n",
              "  </thead>\n",
              "  <tbody>\n",
              "    <tr>\n",
              "      <th>1</th>\n",
              "      <td>LEONO</td>\n",
              "      <td>Retriever, Golden, Mix</td>\n",
              "      <td>2015</td>\n",
              "      <td>Seattle, WA</td>\n",
              "    </tr>\n",
              "    <tr>\n",
              "      <th>3</th>\n",
              "      <td>SMOKE</td>\n",
              "      <td>Australian Cattle Dog, Retriever, Labrador</td>\n",
              "      <td>2016</td>\n",
              "      <td>Seattle, WA</td>\n",
              "    </tr>\n",
              "    <tr>\n",
              "      <th>4</th>\n",
              "      <td>OTTO</td>\n",
              "      <td>Retriever, Labrador, Poodle, Miniature</td>\n",
              "      <td>2016</td>\n",
              "      <td>Seattle, WA</td>\n",
              "    </tr>\n",
              "    <tr>\n",
              "      <th>5</th>\n",
              "      <td>SHAKESPEARE</td>\n",
              "      <td>Terrier, Jack Russell, Shih Tzu</td>\n",
              "      <td>2016</td>\n",
              "      <td>Seattle, WA</td>\n",
              "    </tr>\n",
              "    <tr>\n",
              "      <th>8</th>\n",
              "      <td>SEÑOR GUAPO</td>\n",
              "      <td>Poodle, Miniature, Pomeranian</td>\n",
              "      <td>2017</td>\n",
              "      <td>Seattle, WA</td>\n",
              "    </tr>\n",
              "    <tr>\n",
              "      <th>...</th>\n",
              "      <td>...</td>\n",
              "      <td>...</td>\n",
              "      <td>...</td>\n",
              "      <td>...</td>\n",
              "    </tr>\n",
              "    <tr>\n",
              "      <th>33410</th>\n",
              "      <td>VINX</td>\n",
              "      <td>German Shepherd, Mix</td>\n",
              "      <td>2020</td>\n",
              "      <td>Seattle, WA</td>\n",
              "    </tr>\n",
              "    <tr>\n",
              "      <th>33412</th>\n",
              "      <td>CARDI B</td>\n",
              "      <td>Mix, Mix</td>\n",
              "      <td>2020</td>\n",
              "      <td>Seattle, WA</td>\n",
              "    </tr>\n",
              "    <tr>\n",
              "      <th>33415</th>\n",
              "      <td>ARTEMIS</td>\n",
              "      <td>Chihuahua, Short Coat, Terrier</td>\n",
              "      <td>2020</td>\n",
              "      <td>Seattle, WA</td>\n",
              "    </tr>\n",
              "    <tr>\n",
              "      <th>33419</th>\n",
              "      <td>MATTIE</td>\n",
              "      <td>American Blue Heeler, Mix</td>\n",
              "      <td>2020</td>\n",
              "      <td>Seattle, WA</td>\n",
              "    </tr>\n",
              "    <tr>\n",
              "      <th>33421</th>\n",
              "      <td>DAISY</td>\n",
              "      <td>Terrier, Mix</td>\n",
              "      <td>2020</td>\n",
              "      <td>Seattle, WA</td>\n",
              "    </tr>\n",
              "  </tbody>\n",
              "</table>\n",
              "<p>18638 rows × 4 columns</p>\n",
              "</div>"
            ],
            "text/plain": [
              "              name                                       breed  year  \\\n",
              "1            LEONO                      Retriever, Golden, Mix  2015   \n",
              "3            SMOKE  Australian Cattle Dog, Retriever, Labrador  2016   \n",
              "4             OTTO      Retriever, Labrador, Poodle, Miniature  2016   \n",
              "5      SHAKESPEARE             Terrier, Jack Russell, Shih Tzu  2016   \n",
              "8      SEÑOR GUAPO               Poodle, Miniature, Pomeranian  2017   \n",
              "...            ...                                         ...   ...   \n",
              "33410         VINX                        German Shepherd, Mix  2020   \n",
              "33412      CARDI B                                    Mix, Mix  2020   \n",
              "33415      ARTEMIS              Chihuahua, Short Coat, Terrier  2020   \n",
              "33419       MATTIE                   American Blue Heeler, Mix  2020   \n",
              "33421        DAISY                                Terrier, Mix  2020   \n",
              "\n",
              "          locality  \n",
              "1      Seattle, WA  \n",
              "3      Seattle, WA  \n",
              "4      Seattle, WA  \n",
              "5      Seattle, WA  \n",
              "8      Seattle, WA  \n",
              "...            ...  \n",
              "33410  Seattle, WA  \n",
              "33412  Seattle, WA  \n",
              "33415  Seattle, WA  \n",
              "33419  Seattle, WA  \n",
              "33421  Seattle, WA  \n",
              "\n",
              "[18638 rows x 4 columns]"
            ]
          },
          "metadata": {
            "tags": []
          },
          "execution_count": 51
        }
      ]
    },
    {
      "cell_type": "markdown",
      "metadata": {
        "id": "wjRnjVtQw7aF"
      },
      "source": [
        "# **Section 2**: Setting Up Data for Analysis\n",
        "This section removes data that is likely to yield misleading results and creates columns with information that might be more useful for analysis."
      ]
    },
    {
      "cell_type": "markdown",
      "metadata": {
        "id": "UP4y31ZEWPZJ"
      },
      "source": [
        "### **2.0 - Functions**"
      ]
    },
    {
      "cell_type": "code",
      "metadata": {
        "id": "wsQgZ60tWXNl"
      },
      "source": [
        "def counts(df):\n",
        "  #There is probably a more efficient way to accomplish what these next 4 lines do\n",
        "  df['count'] = df.groupby(['year','name'])['name'].transform('count')\n",
        "  df['year_total'] = df.groupby('year')['count'].transform('sum')\n",
        "  df = df.drop_duplicates(subset=['name','year'])\n",
        "  return df\n",
        "\n",
        "def percentages(df):\n",
        "  df['per_year'] = per * df['count']/df['year_total']\n",
        "  df['per_alltime'] = per * df.groupby('name')['count'].transform('sum')/df['count'].sum()\n",
        "  df = df.sort_values(by='per_alltime',ascending=False)\n",
        "  return df"
      ],
      "execution_count": null,
      "outputs": []
    },
    {
      "cell_type": "markdown",
      "metadata": {
        "id": "47FCf2det1CC"
      },
      "source": [
        "###**2.1 - Removing unhelpful data**\n",
        "\n",
        "Some years only contain a handful of dog licenses, which could skew the analysis results (e.g., the \"most popular\" dog name in Seattle in 2008 was Finigan, but that's only because Finigan is the **only** licensed dog in the data set for that year)."
      ]
    },
    {
      "cell_type": "code",
      "metadata": {
        "id": "BX57z3o5wVsc",
        "outputId": "e67092fd-ed52-4a7e-acac-e6babfebb789",
        "colab": {
          "base_uri": "https://localhost:8080/",
          "height": 1000
        }
      },
      "source": [
        "print('Anchorage:\\n', anchorage['year'].value_counts(),'\\n')\n",
        "print('Cambridge:\\n', cambridge_rows['year'].value_counts(),'\\n')\n",
        "print('NYC:\\n', nyc_rows['year'].value_counts(),'\\n')\n",
        "print('Troy:\\n', troy_rows['year'].value_counts(),'\\n')\n",
        "print('Allegheny County:\\n', allegheny_rows['year'].value_counts(),'\\n')\n",
        "print('Seattle:\\n', seattle_rows['year'].value_counts(),'\\n')"
      ],
      "execution_count": null,
      "outputs": [
        {
          "output_type": "stream",
          "text": [
            "Anchorage:\n",
            " 2020    4090\n",
            "2017    4068\n",
            "2018    3950\n",
            "Name: year, dtype: int64 \n",
            "\n",
            "Cambridge:\n",
            " 2017    5038\n",
            "2018    5037\n",
            "Name: year, dtype: int64 \n",
            "\n",
            "NYC:\n",
            " 2016    75305\n",
            "2017    73069\n",
            "2018    68896\n",
            "2015    32617\n",
            "2014     1539\n",
            "Name: year, dtype: int64 \n",
            "\n",
            "Troy:\n",
            " 2006    499\n",
            "2001    495\n",
            "2007    387\n",
            "2010    380\n",
            "2003    373\n",
            "2008    371\n",
            "2005    346\n",
            "2002    345\n",
            "2015    339\n",
            "2009    336\n",
            "2012    335\n",
            "2011    329\n",
            "2018    319\n",
            "2014    318\n",
            "2019    313\n",
            "2013    308\n",
            "2017    291\n",
            "2016    274\n",
            "2004    230\n",
            "2020    188\n",
            "2000     65\n",
            "1999     10\n",
            "1997      9\n",
            "1998      7\n",
            "2021      2\n",
            "1995      1\n",
            "1996      1\n",
            "Name: year, dtype: int64 \n",
            "\n",
            "Allegheny County:\n",
            " 2015    131373\n",
            "2011    121053\n",
            "2009    120805\n",
            "2007    104312\n",
            "2017     95157\n",
            "2010     94861\n",
            "2018     93292\n",
            "2014     92521\n",
            "2019     86277\n",
            "2016     86231\n",
            "2012     84736\n",
            "2008     81853\n",
            "2013     78388\n",
            "2020     49433\n",
            "2006     16601\n",
            "2005       528\n",
            "2004       341\n",
            "2003         1\n",
            "Name: year, dtype: int64 \n",
            "\n",
            "Seattle:\n",
            " 2020    16392\n",
            "2019    13666\n",
            "2018     3306\n",
            "2017       43\n",
            "2016       10\n",
            "2015        4\n",
            "2008        1\n",
            "Name: year, dtype: int64 \n",
            "\n"
          ],
          "name": "stdout"
        }
      ]
    },
    {
      "cell_type": "code",
      "metadata": {
        "id": "10klnjd0DQlH"
      },
      "source": [
        "troy_rows = troy_rows[troy_rows['year'] > 2000]\n",
        "troy_rows = troy_rows[troy_rows['year'] < 2021]\n",
        "allegheny_rows = allegheny_rows[allegheny_rows['year'] > 2005]\n",
        "seattle_rows = seattle_rows[seattle_rows['year'] > 2017]"
      ],
      "execution_count": null,
      "outputs": []
    },
    {
      "cell_type": "markdown",
      "metadata": {
        "id": "vVh1MWigyra9"
      },
      "source": [
        "###**2.2 - Condensing individual dog records into rows containing dog name counts per year**"
      ]
    },
    {
      "cell_type": "code",
      "metadata": {
        "id": "EwH6Igwby99C"
      },
      "source": [
        "anchorage['year_total'] = anchorage.groupby('year')['count'].transform('sum')\n",
        "cambridge = counts(cambridge_rows)\n",
        "nyc = counts(nyc_rows)\n",
        "troy = counts(troy_rows)\n",
        "allegheny = counts(allegheny_rows)\n",
        "seattle = counts(seattle_rows)"
      ],
      "execution_count": null,
      "outputs": []
    },
    {
      "cell_type": "markdown",
      "metadata": {
        "id": "71g0mxH7OAlj"
      },
      "source": [
        "###**2.3 - Calculating percentages per year and all-time**"
      ]
    },
    {
      "cell_type": "code",
      "metadata": {
        "id": "I8K5QX9QN9cZ",
        "outputId": "d1bb3715-d37e-4563-c927-69528b36d388",
        "colab": {
          "base_uri": "https://localhost:8080/",
          "height": 228
        }
      },
      "source": [
        "anchorage = percentages(anchorage)\n",
        "cambridge = percentages(cambridge)\n",
        "nyc = percentages(nyc)\n",
        "troy = percentages(troy)\n",
        "allegheny = percentages(allegheny)\n",
        "seattle = percentages(seattle)"
      ],
      "execution_count": null,
      "outputs": [
        {
          "output_type": "stream",
          "text": [
            "/usr/local/lib/python3.6/dist-packages/ipykernel_launcher.py:9: SettingWithCopyWarning: \n",
            "A value is trying to be set on a copy of a slice from a DataFrame.\n",
            "Try using .loc[row_indexer,col_indexer] = value instead\n",
            "\n",
            "See the caveats in the documentation: https://pandas.pydata.org/pandas-docs/stable/user_guide/indexing.html#returning-a-view-versus-a-copy\n",
            "  if __name__ == '__main__':\n",
            "/usr/local/lib/python3.6/dist-packages/ipykernel_launcher.py:10: SettingWithCopyWarning: \n",
            "A value is trying to be set on a copy of a slice from a DataFrame.\n",
            "Try using .loc[row_indexer,col_indexer] = value instead\n",
            "\n",
            "See the caveats in the documentation: https://pandas.pydata.org/pandas-docs/stable/user_guide/indexing.html#returning-a-view-versus-a-copy\n",
            "  # Remove the CWD from sys.path while we load stuff.\n"
          ],
          "name": "stderr"
        }
      ]
    },
    {
      "cell_type": "markdown",
      "metadata": {
        "id": "k8tF69-uK56L"
      },
      "source": [
        "###**2.4 - Combining data from all localities**"
      ]
    },
    {
      "cell_type": "code",
      "metadata": {
        "id": "IyO-RfGrK91u",
        "outputId": "8d63ae52-5dbf-40cd-c5c2-5e7a76e35c32",
        "colab": {
          "base_uri": "https://localhost:8080/",
          "height": 402
        }
      },
      "source": [
        "dogs = pd.concat([anchorage,cambridge,nyc,troy,allegheny,seattle])\n",
        "dogs = dogs.drop(columns=['breed'])\n",
        "dogs"
      ],
      "execution_count": null,
      "outputs": [
        {
          "output_type": "execute_result",
          "data": {
            "text/html": [
              "<div>\n",
              "<style scoped>\n",
              "    .dataframe tbody tr th:only-of-type {\n",
              "        vertical-align: middle;\n",
              "    }\n",
              "\n",
              "    .dataframe tbody tr th {\n",
              "        vertical-align: top;\n",
              "    }\n",
              "\n",
              "    .dataframe thead th {\n",
              "        text-align: right;\n",
              "    }\n",
              "</style>\n",
              "<table border=\"1\" class=\"dataframe\">\n",
              "  <thead>\n",
              "    <tr style=\"text-align: right;\">\n",
              "      <th></th>\n",
              "      <th>name</th>\n",
              "      <th>count</th>\n",
              "      <th>year</th>\n",
              "      <th>locality</th>\n",
              "      <th>year_total</th>\n",
              "      <th>per_year</th>\n",
              "      <th>per_alltime</th>\n",
              "    </tr>\n",
              "  </thead>\n",
              "  <tbody>\n",
              "    <tr>\n",
              "      <th>0</th>\n",
              "      <td>BELLA</td>\n",
              "      <td>111</td>\n",
              "      <td>2018</td>\n",
              "      <td>Anchorage, AK</td>\n",
              "      <td>10233</td>\n",
              "      <td>10.847259</td>\n",
              "      <td>10.569002</td>\n",
              "    </tr>\n",
              "    <tr>\n",
              "      <th>4089</th>\n",
              "      <td>BELLA</td>\n",
              "      <td>110</td>\n",
              "      <td>2020</td>\n",
              "      <td>Anchorage, AK</td>\n",
              "      <td>10526</td>\n",
              "      <td>10.450314</td>\n",
              "      <td>10.569002</td>\n",
              "    </tr>\n",
              "    <tr>\n",
              "      <th>0</th>\n",
              "      <td>BELLA</td>\n",
              "      <td>110</td>\n",
              "      <td>2017</td>\n",
              "      <td>Anchorage, AK</td>\n",
              "      <td>10559</td>\n",
              "      <td>10.417653</td>\n",
              "      <td>10.569002</td>\n",
              "    </tr>\n",
              "    <tr>\n",
              "      <th>2</th>\n",
              "      <td>BUDDY</td>\n",
              "      <td>72</td>\n",
              "      <td>2017</td>\n",
              "      <td>Anchorage, AK</td>\n",
              "      <td>10559</td>\n",
              "      <td>6.818828</td>\n",
              "      <td>7.535603</td>\n",
              "    </tr>\n",
              "    <tr>\n",
              "      <th>1</th>\n",
              "      <td>BUDDY</td>\n",
              "      <td>81</td>\n",
              "      <td>2018</td>\n",
              "      <td>Anchorage, AK</td>\n",
              "      <td>10233</td>\n",
              "      <td>7.915567</td>\n",
              "      <td>7.535603</td>\n",
              "    </tr>\n",
              "    <tr>\n",
              "      <th>...</th>\n",
              "      <td>...</td>\n",
              "      <td>...</td>\n",
              "      <td>...</td>\n",
              "      <td>...</td>\n",
              "      <td>...</td>\n",
              "      <td>...</td>\n",
              "      <td>...</td>\n",
              "    </tr>\n",
              "    <tr>\n",
              "      <th>7449</th>\n",
              "      <td>USCITO EL NOBLE</td>\n",
              "      <td>1</td>\n",
              "      <td>2019</td>\n",
              "      <td>Seattle, WA</td>\n",
              "      <td>243652</td>\n",
              "      <td>0.004104</td>\n",
              "      <td>0.029972</td>\n",
              "    </tr>\n",
              "    <tr>\n",
              "      <th>7458</th>\n",
              "      <td>BORGES CAMPION-BENNETT</td>\n",
              "      <td>1</td>\n",
              "      <td>2019</td>\n",
              "      <td>Seattle, WA</td>\n",
              "      <td>243652</td>\n",
              "      <td>0.004104</td>\n",
              "      <td>0.029972</td>\n",
              "    </tr>\n",
              "    <tr>\n",
              "      <th>7459</th>\n",
              "      <td>KACY</td>\n",
              "      <td>1</td>\n",
              "      <td>2019</td>\n",
              "      <td>Seattle, WA</td>\n",
              "      <td>243652</td>\n",
              "      <td>0.004104</td>\n",
              "      <td>0.029972</td>\n",
              "    </tr>\n",
              "    <tr>\n",
              "      <th>18895</th>\n",
              "      <td>PERIWINKLE</td>\n",
              "      <td>1</td>\n",
              "      <td>2019</td>\n",
              "      <td>Seattle, WA</td>\n",
              "      <td>243652</td>\n",
              "      <td>0.004104</td>\n",
              "      <td>0.029972</td>\n",
              "    </tr>\n",
              "    <tr>\n",
              "      <th>33418</th>\n",
              "      <td>MELROSE</td>\n",
              "      <td>1</td>\n",
              "      <td>2020</td>\n",
              "      <td>Seattle, WA</td>\n",
              "      <td>352094</td>\n",
              "      <td>0.002840</td>\n",
              "      <td>0.029972</td>\n",
              "    </tr>\n",
              "  </tbody>\n",
              "</table>\n",
              "<p>309209 rows × 7 columns</p>\n",
              "</div>"
            ],
            "text/plain": [
              "                         name  count  year       locality  year_total  \\\n",
              "0                       BELLA    111  2018  Anchorage, AK       10233   \n",
              "4089                    BELLA    110  2020  Anchorage, AK       10526   \n",
              "0                       BELLA    110  2017  Anchorage, AK       10559   \n",
              "2                       BUDDY     72  2017  Anchorage, AK       10559   \n",
              "1                       BUDDY     81  2018  Anchorage, AK       10233   \n",
              "...                       ...    ...   ...            ...         ...   \n",
              "7449          USCITO EL NOBLE      1  2019    Seattle, WA      243652   \n",
              "7458   BORGES CAMPION-BENNETT      1  2019    Seattle, WA      243652   \n",
              "7459                     KACY      1  2019    Seattle, WA      243652   \n",
              "18895              PERIWINKLE      1  2019    Seattle, WA      243652   \n",
              "33418                 MELROSE      1  2020    Seattle, WA      352094   \n",
              "\n",
              "        per_year  per_alltime  \n",
              "0      10.847259    10.569002  \n",
              "4089   10.450314    10.569002  \n",
              "0      10.417653    10.569002  \n",
              "2       6.818828     7.535603  \n",
              "1       7.915567     7.535603  \n",
              "...          ...          ...  \n",
              "7449    0.004104     0.029972  \n",
              "7458    0.004104     0.029972  \n",
              "7459    0.004104     0.029972  \n",
              "18895   0.004104     0.029972  \n",
              "33418   0.002840     0.029972  \n",
              "\n",
              "[309209 rows x 7 columns]"
            ]
          },
          "metadata": {
            "tags": []
          },
          "execution_count": 57
        }
      ]
    },
    {
      "cell_type": "markdown",
      "metadata": {
        "id": "ITsJ9FxDAQNy"
      },
      "source": [
        "#**Section 3**: Analysis\n",
        "This is the fun part!"
      ]
    },
    {
      "cell_type": "markdown",
      "metadata": {
        "id": "5WBTUeBhW1ev"
      },
      "source": [
        "### **3.0 - Functions**"
      ]
    },
    {
      "cell_type": "code",
      "metadata": {
        "id": "fJqc-U8rW5QV"
      },
      "source": [
        "def most_popular_count(df,x):\n",
        "  df['count_total'] = df.groupby('name')['count'].transform('sum')\n",
        "  df = df.drop_duplicates(subset=['name'])\n",
        "  df = df[['name','count_total']].head(x).sort_values(by='count_total',ascending=False)\n",
        "  df.plot(kind='bar',title='Top '+str(x)+' Dog Names (All-time, by Count)',x='name', y='count_total',figsize=(30,5))\n",
        "  print(df)\n",
        "\n",
        "def topxcount(df,x,loc):\n",
        "  df = df.groupby('year').head(x).pivot(index='year', columns='name', values='count')\n",
        "  df.plot(kind='bar',title='Top '+str(x)+' Dog Names in '+loc+' Each Year (by count)',figsize=(30,5))\n",
        "\n",
        "def topxper(df,x,loc):\n",
        "  df = df.groupby('year').head(x).pivot(index='year', columns='name', values='per_year')\n",
        "  df.plot(kind='bar',title='Top '+str(x)+' Dog Names in '+loc+' Each Year (Dogs Per '+str(per)+')',figsize=(30,5))\n",
        "\n",
        "def name_popularity_count(df,dog):\n",
        "  df = df[df['name'] == dog.upper()]\n",
        "  df.pivot(index=['year'],columns='locality',values='count').plot(kind='bar',title='Popularity of '+dog+' Over Time (by count)',figsize=(30,5))\n",
        "\n",
        "def name_popularity_per(df,dog):\n",
        "  df = df[df['name'] == dog.upper()]\n",
        "  df.pivot(index=['year'],columns='locality',values='per_year').plot(kind='bar',title='Popularity of '+dog+' Over Time (per ' + str(per) + ')',figsize=(30,5))"
      ],
      "execution_count": null,
      "outputs": []
    },
    {
      "cell_type": "markdown",
      "metadata": {
        "id": "Il4PHghjei-S"
      },
      "source": [
        "### **3.1 - How many unique dog names are there?**"
      ]
    },
    {
      "cell_type": "code",
      "metadata": {
        "id": "l7AFJgufepQc",
        "outputId": "4cf622d2-1d70-4b88-888b-766e40e1f62a",
        "colab": {
          "base_uri": "https://localhost:8080/",
          "height": 34
        }
      },
      "source": [
        "print('There are',dogs['name'].nunique(),'unique dog names in the combined data, which contains',str(dogs['count'].sum()),'dogs.')"
      ],
      "execution_count": null,
      "outputs": [
        {
          "output_type": "stream",
          "text": [
            "There are 64595 unique dog names in the combined data, which contains 1669852 dogs.\n"
          ],
          "name": "stdout"
        }
      ]
    },
    {
      "cell_type": "markdown",
      "metadata": {
        "id": "NfZt8gPAcJjP"
      },
      "source": [
        "### **3.2 - What are the n most popular dog names overall?**"
      ]
    },
    {
      "cell_type": "code",
      "metadata": {
        "id": "KXtVFkdYcNPb",
        "outputId": "5b20922b-86c0-410e-ca44-e8fe6b67e2ee",
        "colab": {
          "base_uri": "https://localhost:8080/",
          "height": 451
        }
      },
      "source": [
        "n = 5\n",
        "print('These are the',str(n),'most popular dog names overall:\\n')\n",
        "most_popular_count(dogs,n)"
      ],
      "execution_count": null,
      "outputs": [
        {
          "output_type": "stream",
          "text": [
            "These are the 5 most popular dog names overall:\n",
            "\n",
            "    name  count_total\n",
            "0  BELLA        18422\n",
            "1    MAX        16320\n",
            "2  BUDDY        16246\n",
            "6   LUCY        12775\n",
            "2  SADIE        11084\n"
          ],
          "name": "stdout"
        },
        {
          "output_type": "display_data",
          "data": {
            "image/png": "[encoded data removed]",
            "text/plain": [
              "<Figure size 2160x360 with 1 Axes>"
            ]
          },
          "metadata": {
            "tags": [],
            "needs_background": "light"
          }
        }
      ]
    },
    {
      "cell_type": "markdown",
      "metadata": {
        "id": "hMdUzTISaaro"
      },
      "source": [
        "### **3.3 - What were the top n dog names in each location per year?**"
      ]
    },
    {
      "cell_type": "code",
      "metadata": {
        "id": "WXpKTZMlDH7h",
        "outputId": "16f43612-b614-4a04-a1fb-57231009e6a0",
        "colab": {
          "base_uri": "https://localhost:8080/",
          "height": 1000
        }
      },
      "source": [
        "n = 3\n",
        "\n",
        "'''\n",
        "topxcount(anchorage,n,\"Anchorage, AK\")\n",
        "topxcount(cambridge,n,\"Cambridge, MA\")\n",
        "topxcount(nyc,n,\"New York, NY\")\n",
        "topxcount(troy,n,\"Troy, NY\")\n",
        "topxcount(allegheny,n,\"Allegheny County, PA\")\n",
        "topxcount(seattle,n,\"Seattle, WA\")\n",
        "'''\n",
        "\n",
        "topxper(anchorage,n,\"Anchorage, AK\")\n",
        "topxper(cambridge,n,\"Cambridge, MA\")\n",
        "topxper(nyc,n,\"New York, NY\")\n",
        "topxper(troy,n,\"Troy, NY\")\n",
        "topxper(allegheny,n,\"Allegheny County, PA\")\n",
        "topxper(seattle,n,\"Seattle, WA\")"
      ],
      "execution_count": null,
      "outputs": [
        {
          "output_type": "display_data",
          "data": {
            "image/png": "[encoded data removed]",
            "text/plain": [
              "<Figure size 2160x360 with 1 Axes>"
            ]
          },
          "metadata": {
            "tags": [],
            "needs_background": "light"
          }
        },
        {
          "output_type": "display_data",
          "data": {
            "image/png": "[encoded data removed]",
            "text/plain": [
              "<Figure size 2160x360 with 1 Axes>"
            ]
          },
          "metadata": {
            "tags": [],
            "needs_background": "light"
          }
        },
        {
          "output_type": "display_data",
          "data": {
            "image/png": "[encoded data removed]",
            "text/plain": [
              "<Figure size 2160x360 with 1 Axes>"
            ]
          },
          "metadata": {
            "tags": [],
            "needs_background": "light"
          }
        },
        {
          "output_type": "display_data",
          "data": {
            "image/png": "[encoded data removed]",
            "text/plain": [
              "<Figure size 2160x360 with 1 Axes>"
            ]
          },
          "metadata": {
            "tags": [],
            "needs_background": "light"
          }
        },
        {
          "output_type": "display_data",
          "data": {
            "image/png": "[encoded data removed]",
            "text/plain": [
              "<Figure size 2160x360 with 1 Axes>"
            ]
          },
          "metadata": {
            "tags": [],
            "needs_background": "light"
          }
        },
        {
          "output_type": "display_data",
          "data": {
            "image/png": "[encoded data removed]",
            "text/plain": [
              "<Figure size 2160x360 with 1 Axes>"
            ]
          },
          "metadata": {
            "tags": [],
            "needs_background": "light"
          }
        }
      ]
    },
    {
      "cell_type": "markdown",
      "metadata": {
        "id": "q3wRRf-jXH0m"
      },
      "source": [
        "### **3.4 - How has the popularity of _____ changed over time?**"
      ]
    },
    {
      "cell_type": "code",
      "metadata": {
        "id": "nGXiDwtyuZ_s",
        "outputId": "4e47e023-74e7-4b62-c2d3-705980d32597",
        "colab": {
          "base_uri": "https://localhost:8080/",
          "height": 610
        }
      },
      "source": [
        "dog = input(\"Enter a dog name to view it's popularity over time: \")\n",
        "\n",
        "#change this value to view popularity in a specific locality\n",
        "locality = nyc\n",
        "\n",
        "name_popularity_count(locality,dog)\n",
        "name_popularity_per(locality, dog)"
      ],
      "execution_count": null,
      "outputs": [
        {
          "output_type": "stream",
          "text": [
            "Enter a dog name to view it's popularity over time: nina\n"
          ],
          "name": "stdout"
        },
        {
          "output_type": "display_data",
          "data": {
            "image/png": "[encoded data removed]",
            "text/plain": [
              "<Figure size 2160x360 with 1 Axes>"
            ]
          },
          "metadata": {
            "tags": [],
            "needs_background": "light"
          }
        },
        {
          "output_type": "display_data",
          "data": {
            "image/png": "[encoded data removed]",
            "text/plain": [
              "<Figure size 2160x360 with 1 Axes>"
            ]
          },
          "metadata": {
            "tags": [],
            "needs_background": "light"
          }
        }
      ]
    }
  ]
}